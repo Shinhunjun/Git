{
 "cells": [
  {
   "cell_type": "code",
   "execution_count": 1,
   "id": "d8790142",
   "metadata": {},
   "outputs": [],
   "source": [
    "import numpy as np\n",
    "import pandas as pd"
   ]
  },
  {
   "cell_type": "code",
   "execution_count": 2,
   "id": "caa7528d",
   "metadata": {},
   "outputs": [],
   "source": [
    "import os"
   ]
  },
  {
   "cell_type": "code",
   "execution_count": 3,
   "id": "30385014",
   "metadata": {},
   "outputs": [
    {
     "data": {
      "text/html": [
       "<div>\n",
       "<style scoped>\n",
       "    .dataframe tbody tr th:only-of-type {\n",
       "        vertical-align: middle;\n",
       "    }\n",
       "\n",
       "    .dataframe tbody tr th {\n",
       "        vertical-align: top;\n",
       "    }\n",
       "\n",
       "    .dataframe thead th {\n",
       "        text-align: right;\n",
       "    }\n",
       "</style>\n",
       "<table border=\"1\" class=\"dataframe\">\n",
       "  <thead>\n",
       "    <tr style=\"text-align: right;\">\n",
       "      <th></th>\n",
       "      <th>id</th>\n",
       "      <th>full_name</th>\n",
       "      <th>age</th>\n",
       "      <th>gender</th>\n",
       "      <th>device_type</th>\n",
       "      <th>ad_position</th>\n",
       "      <th>browsing_history</th>\n",
       "      <th>time_of_day</th>\n",
       "      <th>click</th>\n",
       "    </tr>\n",
       "  </thead>\n",
       "  <tbody>\n",
       "    <tr>\n",
       "      <th>0</th>\n",
       "      <td>670</td>\n",
       "      <td>User670</td>\n",
       "      <td>22.0</td>\n",
       "      <td>NaN</td>\n",
       "      <td>Desktop</td>\n",
       "      <td>Top</td>\n",
       "      <td>Shopping</td>\n",
       "      <td>Afternoon</td>\n",
       "      <td>1</td>\n",
       "    </tr>\n",
       "    <tr>\n",
       "      <th>1</th>\n",
       "      <td>3044</td>\n",
       "      <td>User3044</td>\n",
       "      <td>NaN</td>\n",
       "      <td>Male</td>\n",
       "      <td>Desktop</td>\n",
       "      <td>Top</td>\n",
       "      <td>NaN</td>\n",
       "      <td>NaN</td>\n",
       "      <td>1</td>\n",
       "    </tr>\n",
       "    <tr>\n",
       "      <th>2</th>\n",
       "      <td>5912</td>\n",
       "      <td>User5912</td>\n",
       "      <td>41.0</td>\n",
       "      <td>Non-Binary</td>\n",
       "      <td>NaN</td>\n",
       "      <td>Side</td>\n",
       "      <td>Education</td>\n",
       "      <td>Night</td>\n",
       "      <td>1</td>\n",
       "    </tr>\n",
       "    <tr>\n",
       "      <th>3</th>\n",
       "      <td>5418</td>\n",
       "      <td>User5418</td>\n",
       "      <td>34.0</td>\n",
       "      <td>Male</td>\n",
       "      <td>NaN</td>\n",
       "      <td>NaN</td>\n",
       "      <td>Entertainment</td>\n",
       "      <td>Evening</td>\n",
       "      <td>1</td>\n",
       "    </tr>\n",
       "    <tr>\n",
       "      <th>4</th>\n",
       "      <td>9452</td>\n",
       "      <td>User9452</td>\n",
       "      <td>39.0</td>\n",
       "      <td>Non-Binary</td>\n",
       "      <td>NaN</td>\n",
       "      <td>NaN</td>\n",
       "      <td>Social Media</td>\n",
       "      <td>Morning</td>\n",
       "      <td>0</td>\n",
       "    </tr>\n",
       "  </tbody>\n",
       "</table>\n",
       "</div>"
      ],
      "text/plain": [
       "     id full_name   age      gender device_type ad_position browsing_history  \\\n",
       "0   670   User670  22.0         NaN     Desktop         Top         Shopping   \n",
       "1  3044  User3044   NaN        Male     Desktop         Top              NaN   \n",
       "2  5912  User5912  41.0  Non-Binary         NaN        Side        Education   \n",
       "3  5418  User5418  34.0        Male         NaN         NaN    Entertainment   \n",
       "4  9452  User9452  39.0  Non-Binary         NaN         NaN     Social Media   \n",
       "\n",
       "  time_of_day  click  \n",
       "0   Afternoon      1  \n",
       "1         NaN      1  \n",
       "2       Night      1  \n",
       "3     Evening      1  \n",
       "4     Morning      0  "
      ]
     },
     "execution_count": 3,
     "metadata": {},
     "output_type": "execute_result"
    }
   ],
   "source": [
    "df = pd.read_csv('/Users/hunjunsin/Desktop/python/Kaggle/adclickpredict/ad_click_dataset.csv')\n",
    "df.head()"
   ]
  },
  {
   "cell_type": "code",
   "execution_count": 4,
   "id": "91374a8c",
   "metadata": {},
   "outputs": [
    {
     "name": "stdout",
     "output_type": "stream",
     "text": [
      "<class 'pandas.core.frame.DataFrame'>\n",
      "RangeIndex: 10000 entries, 0 to 9999\n",
      "Data columns (total 9 columns):\n",
      " #   Column            Non-Null Count  Dtype  \n",
      "---  ------            --------------  -----  \n",
      " 0   id                10000 non-null  int64  \n",
      " 1   full_name         10000 non-null  object \n",
      " 2   age               5234 non-null   float64\n",
      " 3   gender            5307 non-null   object \n",
      " 4   device_type       8000 non-null   object \n",
      " 5   ad_position       8000 non-null   object \n",
      " 6   browsing_history  5218 non-null   object \n",
      " 7   time_of_day       8000 non-null   object \n",
      " 8   click             10000 non-null  int64  \n",
      "dtypes: float64(1), int64(2), object(6)\n",
      "memory usage: 703.3+ KB\n"
     ]
    }
   ],
   "source": [
    "df.info()"
   ]
  },
  {
   "cell_type": "code",
   "execution_count": 5,
   "id": "e32057d3",
   "metadata": {},
   "outputs": [],
   "source": [
    "import matplotlib.pyplot as plt"
   ]
  },
  {
   "cell_type": "code",
   "execution_count": 6,
   "id": "7164dbc7",
   "metadata": {},
   "outputs": [],
   "source": [
    "gender = df['gender'].value_counts()"
   ]
  },
  {
   "cell_type": "code",
   "execution_count": 7,
   "id": "43428df5",
   "metadata": {},
   "outputs": [],
   "source": [
    "from sklearn.model_selection import train_test_split\n",
    "from sklearn.preprocessing import LabelEncoder\n",
    "from sklearn.metrics import accuracy_score, classification_report, confusion_matrix\n",
    "\n",
    "from sklearn.ensemble import RandomForestClassifier, GradientBoostingClassifier, AdaBoostClassifier, ExtraTreesClassifier\n",
    "from xgboost import XGBClassifier\n",
    "from catboost import CatBoostClassifier\n",
    "from lightgbm import LGBMClassifier\n",
    "from sklearn.tree import DecisionTreeClassifier\n",
    "from sklearn.linear_model import LogisticRegression"
   ]
  },
  {
   "cell_type": "code",
   "execution_count": 9,
   "id": "5e21659a",
   "metadata": {},
   "outputs": [],
   "source": [
    "models = {\n",
    "    'Random Forest': RandomForestClassifier(random_state=10),\n",
    "    'Gradient Boosting': GradientBoostingClassifier(random_state=10),\n",
    "    'Ada Boost': AdaBoostClassifier(random_state=10),\n",
    "    'Extra Trees': ExtraTreesClassifier(random_state=10),\n",
    "    'XGBoost': XGBClassifier(random_state=10),\n",
    "    'Cat Boost': CatBoostClassifier(random_state=10, verbose=False),\n",
    "    'Light GBM': LGBMClassifier(random_state=10, verbose=-1),\n",
    "    'Decision Tree': DecisionTreeClassifier(random_state=10),\n",
    "    'Logistic Regression': LogisticRegression(random_state=10)\n",
    "}"
   ]
  },
  {
   "cell_type": "code",
   "execution_count": 10,
   "id": "6889b2d5",
   "metadata": {},
   "outputs": [],
   "source": [
    "df = df.drop(['full_name'], axis = 1)"
   ]
  },
  {
   "cell_type": "code",
   "execution_count": 11,
   "id": "cda5da50",
   "metadata": {},
   "outputs": [
    {
     "data": {
      "text/plain": [
       "id                     0\n",
       "age                 4766\n",
       "gender              4693\n",
       "device_type         2000\n",
       "ad_position         2000\n",
       "browsing_history    4782\n",
       "time_of_day         2000\n",
       "click                  0\n",
       "dtype: int64"
      ]
     },
     "execution_count": 11,
     "metadata": {},
     "output_type": "execute_result"
    }
   ],
   "source": [
    "df.isnull().sum()"
   ]
  },
  {
   "cell_type": "code",
   "execution_count": 12,
   "id": "d2f74739",
   "metadata": {},
   "outputs": [
    {
     "name": "stdout",
     "output_type": "stream",
     "text": [
      "<class 'pandas.core.frame.DataFrame'>\n",
      "RangeIndex: 10000 entries, 0 to 9999\n",
      "Data columns (total 8 columns):\n",
      " #   Column            Non-Null Count  Dtype  \n",
      "---  ------            --------------  -----  \n",
      " 0   id                10000 non-null  int64  \n",
      " 1   age               5234 non-null   float64\n",
      " 2   gender            5307 non-null   object \n",
      " 3   device_type       8000 non-null   object \n",
      " 4   ad_position       8000 non-null   object \n",
      " 5   browsing_history  5218 non-null   object \n",
      " 6   time_of_day       8000 non-null   object \n",
      " 7   click             10000 non-null  int64  \n",
      "dtypes: float64(1), int64(2), object(5)\n",
      "memory usage: 625.1+ KB\n"
     ]
    }
   ],
   "source": [
    "df.info()"
   ]
  },
  {
   "cell_type": "code",
   "execution_count": 15,
   "id": "9b41e696",
   "metadata": {},
   "outputs": [],
   "source": [
    "df['age'] = df['age'].fillna(df['age'].mean())\n",
    "df['gender'] = df['gender'].fillna(\"Unknown\")\n",
    "df['device_type'] = df['device_type'].fillna(\"Unknown\")\n",
    "df['ad_position'] = df['ad_position'].fillna(\"Unknown\")\n",
    "df['browsing_history'] = df['browsing_history'].fillna(\"Unknown\")\n",
    "df['time_of_day'] = df['time_of_day'].fillna(\"Unknown\")"
   ]
  },
  {
   "cell_type": "code",
   "execution_count": 16,
   "id": "a7824021",
   "metadata": {},
   "outputs": [
    {
     "data": {
      "text/plain": [
       "id                  0\n",
       "age                 0\n",
       "gender              0\n",
       "device_type         0\n",
       "ad_position         0\n",
       "browsing_history    0\n",
       "time_of_day         0\n",
       "click               0\n",
       "dtype: int64"
      ]
     },
     "execution_count": 16,
     "metadata": {},
     "output_type": "execute_result"
    }
   ],
   "source": [
    "df.isnull().sum()"
   ]
  },
  {
   "cell_type": "code",
   "execution_count": 17,
   "id": "7c5f4f33",
   "metadata": {},
   "outputs": [],
   "source": [
    "le = LabelEncoder()"
   ]
  },
  {
   "cell_type": "code",
   "execution_count": 19,
   "id": "60b9b7cb",
   "metadata": {},
   "outputs": [],
   "source": [
    "df['gender'] = le.fit_transform(df['gender'])\n",
    "df['device_type'] = le.fit_transform(df['device_type'])\n",
    "df['ad_position'] = le.fit_transform(df['ad_position'])\n",
    "df['browsing_history'] = le.fit_transform(df['browsing_history'])\n",
    "df['time_of_day'] = le.fit_transform(df['time_of_day'])"
   ]
  },
  {
   "cell_type": "code",
   "execution_count": 21,
   "id": "1672efee",
   "metadata": {},
   "outputs": [
    {
     "data": {
      "text/plain": [
       "<bound method IndexOpsMixin.value_counts of 0       3\n",
       "1       1\n",
       "2       2\n",
       "3       1\n",
       "4       2\n",
       "       ..\n",
       "9995    3\n",
       "9996    0\n",
       "9997    1\n",
       "9998    3\n",
       "9999    1\n",
       "Name: gender, Length: 10000, dtype: int64>"
      ]
     },
     "execution_count": 21,
     "metadata": {},
     "output_type": "execute_result"
    }
   ],
   "source": [
    "df['gender'].value_counts"
   ]
  },
  {
   "cell_type": "code",
   "execution_count": 22,
   "id": "e5bd5e92",
   "metadata": {},
   "outputs": [],
   "source": [
    "X = df.drop('click' ,axis=1)\n",
    "y = df['click']"
   ]
  },
  {
   "cell_type": "code",
   "execution_count": 25,
   "id": "6b596791",
   "metadata": {},
   "outputs": [
    {
     "data": {
      "text/html": [
       "<div>\n",
       "<style scoped>\n",
       "    .dataframe tbody tr th:only-of-type {\n",
       "        vertical-align: middle;\n",
       "    }\n",
       "\n",
       "    .dataframe tbody tr th {\n",
       "        vertical-align: top;\n",
       "    }\n",
       "\n",
       "    .dataframe thead th {\n",
       "        text-align: right;\n",
       "    }\n",
       "</style>\n",
       "<table border=\"1\" class=\"dataframe\">\n",
       "  <thead>\n",
       "    <tr style=\"text-align: right;\">\n",
       "      <th></th>\n",
       "      <th>id</th>\n",
       "      <th>age</th>\n",
       "      <th>gender</th>\n",
       "      <th>device_type</th>\n",
       "      <th>ad_position</th>\n",
       "      <th>browsing_history</th>\n",
       "      <th>time_of_day</th>\n",
       "    </tr>\n",
       "  </thead>\n",
       "  <tbody>\n",
       "    <tr>\n",
       "      <th>0</th>\n",
       "      <td>670</td>\n",
       "      <td>22.000000</td>\n",
       "      <td>3</td>\n",
       "      <td>0</td>\n",
       "      <td>2</td>\n",
       "      <td>3</td>\n",
       "      <td>0</td>\n",
       "    </tr>\n",
       "    <tr>\n",
       "      <th>1</th>\n",
       "      <td>3044</td>\n",
       "      <td>40.197363</td>\n",
       "      <td>1</td>\n",
       "      <td>0</td>\n",
       "      <td>2</td>\n",
       "      <td>5</td>\n",
       "      <td>4</td>\n",
       "    </tr>\n",
       "    <tr>\n",
       "      <th>2</th>\n",
       "      <td>5912</td>\n",
       "      <td>41.000000</td>\n",
       "      <td>2</td>\n",
       "      <td>3</td>\n",
       "      <td>1</td>\n",
       "      <td>0</td>\n",
       "      <td>3</td>\n",
       "    </tr>\n",
       "    <tr>\n",
       "      <th>3</th>\n",
       "      <td>5418</td>\n",
       "      <td>34.000000</td>\n",
       "      <td>1</td>\n",
       "      <td>3</td>\n",
       "      <td>3</td>\n",
       "      <td>1</td>\n",
       "      <td>1</td>\n",
       "    </tr>\n",
       "    <tr>\n",
       "      <th>4</th>\n",
       "      <td>9452</td>\n",
       "      <td>39.000000</td>\n",
       "      <td>2</td>\n",
       "      <td>3</td>\n",
       "      <td>3</td>\n",
       "      <td>4</td>\n",
       "      <td>2</td>\n",
       "    </tr>\n",
       "  </tbody>\n",
       "</table>\n",
       "</div>"
      ],
      "text/plain": [
       "     id        age  gender  device_type  ad_position  browsing_history  \\\n",
       "0   670  22.000000       3            0            2                 3   \n",
       "1  3044  40.197363       1            0            2                 5   \n",
       "2  5912  41.000000       2            3            1                 0   \n",
       "3  5418  34.000000       1            3            3                 1   \n",
       "4  9452  39.000000       2            3            3                 4   \n",
       "\n",
       "   time_of_day  \n",
       "0            0  \n",
       "1            4  \n",
       "2            3  \n",
       "3            1  \n",
       "4            2  "
      ]
     },
     "execution_count": 25,
     "metadata": {},
     "output_type": "execute_result"
    }
   ],
   "source": [
    "X.head()"
   ]
  },
  {
   "cell_type": "code",
   "execution_count": 26,
   "id": "b789f826",
   "metadata": {},
   "outputs": [
    {
     "data": {
      "text/plain": [
       "0    1\n",
       "1    1\n",
       "2    1\n",
       "3    1\n",
       "4    0\n",
       "Name: click, dtype: int64"
      ]
     },
     "execution_count": 26,
     "metadata": {},
     "output_type": "execute_result"
    }
   ],
   "source": [
    "y.head()"
   ]
  },
  {
   "cell_type": "code",
   "execution_count": 27,
   "id": "1d08c412",
   "metadata": {},
   "outputs": [
    {
     "name": "stdout",
     "output_type": "stream",
     "text": [
      "<class 'pandas.core.frame.DataFrame'>\n",
      "RangeIndex: 10000 entries, 0 to 9999\n",
      "Data columns (total 7 columns):\n",
      " #   Column            Non-Null Count  Dtype  \n",
      "---  ------            --------------  -----  \n",
      " 0   id                10000 non-null  int64  \n",
      " 1   age               10000 non-null  float64\n",
      " 2   gender            10000 non-null  int64  \n",
      " 3   device_type       10000 non-null  int64  \n",
      " 4   ad_position       10000 non-null  int64  \n",
      " 5   browsing_history  10000 non-null  int64  \n",
      " 6   time_of_day       10000 non-null  int64  \n",
      "dtypes: float64(1), int64(6)\n",
      "memory usage: 547.0 KB\n"
     ]
    }
   ],
   "source": [
    "X.info()"
   ]
  },
  {
   "cell_type": "code",
   "execution_count": 28,
   "id": "895d5495",
   "metadata": {},
   "outputs": [
    {
     "name": "stdout",
     "output_type": "stream",
     "text": [
      "<class 'pandas.core.series.Series'>\n",
      "RangeIndex: 10000 entries, 0 to 9999\n",
      "Series name: click\n",
      "Non-Null Count  Dtype\n",
      "--------------  -----\n",
      "10000 non-null  int64\n",
      "dtypes: int64(1)\n",
      "memory usage: 78.3 KB\n"
     ]
    }
   ],
   "source": [
    "y.info()"
   ]
  },
  {
   "cell_type": "code",
   "execution_count": 29,
   "id": "fa425c4e",
   "metadata": {},
   "outputs": [
    {
     "data": {
      "text/plain": [
       "(10000, 7)"
      ]
     },
     "execution_count": 29,
     "metadata": {},
     "output_type": "execute_result"
    }
   ],
   "source": [
    "X.shape"
   ]
  },
  {
   "cell_type": "code",
   "execution_count": 30,
   "id": "b37ffd6e",
   "metadata": {},
   "outputs": [
    {
     "data": {
      "text/plain": [
       "(10000,)"
      ]
     },
     "execution_count": 30,
     "metadata": {},
     "output_type": "execute_result"
    }
   ],
   "source": [
    "y.shape"
   ]
  },
  {
   "cell_type": "code",
   "execution_count": 32,
   "id": "0f6d9b23",
   "metadata": {},
   "outputs": [],
   "source": [
    "X_train, X_test, y_train, y_test = train_test_split(X, y, test_size = 0.1, random_state = 42)"
   ]
  },
  {
   "cell_type": "code",
   "execution_count": 33,
   "id": "4c06d3bc",
   "metadata": {},
   "outputs": [
    {
     "data": {
      "text/plain": [
       "(9000, 7)"
      ]
     },
     "execution_count": 33,
     "metadata": {},
     "output_type": "execute_result"
    }
   ],
   "source": [
    "X_train.shape"
   ]
  },
  {
   "cell_type": "code",
   "execution_count": 34,
   "id": "5f43e789",
   "metadata": {},
   "outputs": [
    {
     "data": {
      "text/plain": [
       "(1000, 7)"
      ]
     },
     "execution_count": 34,
     "metadata": {},
     "output_type": "execute_result"
    }
   ],
   "source": [
    "X_test.shape"
   ]
  },
  {
   "cell_type": "code",
   "execution_count": 37,
   "id": "c4719daa",
   "metadata": {},
   "outputs": [
    {
     "name": "stdout",
     "output_type": "stream",
     "text": [
      "Random Forest\n",
      "Accuracy :  0.796\n",
      "Confusion_matrix :\n",
      "[[201 163]\n",
      " [ 41 595]]\n",
      "Classificaiton Report\n",
      "              precision    recall  f1-score   support\n",
      "\n",
      "           0       0.83      0.55      0.66       364\n",
      "           1       0.78      0.94      0.85       636\n",
      "\n",
      "    accuracy                           0.80      1000\n",
      "   macro avg       0.81      0.74      0.76      1000\n",
      "weighted avg       0.80      0.80      0.78      1000\n",
      "\n",
      "--------------------------------------------------\n",
      "Gradient Boosting\n",
      "Accuracy :  0.693\n",
      "Confusion_matrix :\n",
      "[[ 59 305]\n",
      " [  2 634]]\n",
      "Classificaiton Report\n",
      "              precision    recall  f1-score   support\n",
      "\n",
      "           0       0.97      0.16      0.28       364\n",
      "           1       0.68      1.00      0.81       636\n",
      "\n",
      "    accuracy                           0.69      1000\n",
      "   macro avg       0.82      0.58      0.54      1000\n",
      "weighted avg       0.78      0.69      0.61      1000\n",
      "\n",
      "--------------------------------------------------\n",
      "Ada Boost\n",
      "Accuracy :  0.653\n",
      "Confusion_matrix :\n",
      "[[ 26 338]\n",
      " [  9 627]]\n",
      "Classificaiton Report\n",
      "              precision    recall  f1-score   support\n",
      "\n",
      "           0       0.74      0.07      0.13       364\n",
      "           1       0.65      0.99      0.78       636\n",
      "\n",
      "    accuracy                           0.65      1000\n",
      "   macro avg       0.70      0.53      0.46      1000\n",
      "weighted avg       0.68      0.65      0.55      1000\n",
      "\n",
      "--------------------------------------------------\n",
      "Extra Trees\n"
     ]
    },
    {
     "name": "stderr",
     "output_type": "stream",
     "text": [
      "/opt/anaconda3/lib/python3.12/site-packages/sklearn/ensemble/_weight_boosting.py:519: FutureWarning: The SAMME.R algorithm (the default) is deprecated and will be removed in 1.6. Use the SAMME algorithm to circumvent this warning.\n",
      "  warnings.warn(\n"
     ]
    },
    {
     "name": "stdout",
     "output_type": "stream",
     "text": [
      "Accuracy :  0.783\n",
      "Confusion_matrix :\n",
      "[[210 154]\n",
      " [ 63 573]]\n",
      "Classificaiton Report\n",
      "              precision    recall  f1-score   support\n",
      "\n",
      "           0       0.77      0.58      0.66       364\n",
      "           1       0.79      0.90      0.84       636\n",
      "\n",
      "    accuracy                           0.78      1000\n",
      "   macro avg       0.78      0.74      0.75      1000\n",
      "weighted avg       0.78      0.78      0.77      1000\n",
      "\n",
      "--------------------------------------------------\n",
      "XGBoost\n",
      "Accuracy :  0.838\n",
      "Confusion_matrix :\n",
      "[[228 136]\n",
      " [ 26 610]]\n",
      "Classificaiton Report\n",
      "              precision    recall  f1-score   support\n",
      "\n",
      "           0       0.90      0.63      0.74       364\n",
      "           1       0.82      0.96      0.88       636\n",
      "\n",
      "    accuracy                           0.84      1000\n",
      "   macro avg       0.86      0.79      0.81      1000\n",
      "weighted avg       0.85      0.84      0.83      1000\n",
      "\n",
      "--------------------------------------------------\n",
      "Cat Boost\n",
      "Accuracy :  0.778\n",
      "Confusion_matrix :\n",
      "[[152 212]\n",
      " [ 10 626]]\n",
      "Classificaiton Report\n",
      "              precision    recall  f1-score   support\n",
      "\n",
      "           0       0.94      0.42      0.58       364\n",
      "           1       0.75      0.98      0.85       636\n",
      "\n",
      "    accuracy                           0.78      1000\n",
      "   macro avg       0.84      0.70      0.71      1000\n",
      "weighted avg       0.82      0.78      0.75      1000\n",
      "\n",
      "--------------------------------------------------\n",
      "Light GBM\n",
      "Accuracy :  0.782\n",
      "Confusion_matrix :\n",
      "[[164 200]\n",
      " [ 18 618]]\n",
      "Classificaiton Report\n",
      "              precision    recall  f1-score   support\n",
      "\n",
      "           0       0.90      0.45      0.60       364\n",
      "           1       0.76      0.97      0.85       636\n",
      "\n",
      "    accuracy                           0.78      1000\n",
      "   macro avg       0.83      0.71      0.73      1000\n",
      "weighted avg       0.81      0.78      0.76      1000\n",
      "\n",
      "--------------------------------------------------\n",
      "Decision Tree\n",
      "Accuracy :  0.851\n",
      "Confusion_matrix :\n",
      "[[262 102]\n",
      " [ 47 589]]\n",
      "Classificaiton Report\n",
      "              precision    recall  f1-score   support\n",
      "\n",
      "           0       0.85      0.72      0.78       364\n",
      "           1       0.85      0.93      0.89       636\n",
      "\n",
      "    accuracy                           0.85      1000\n",
      "   macro avg       0.85      0.82      0.83      1000\n",
      "weighted avg       0.85      0.85      0.85      1000\n",
      "\n",
      "--------------------------------------------------\n",
      "Logistic Regression\n",
      "Accuracy :  0.636\n",
      "Confusion_matrix :\n",
      "[[  0 364]\n",
      " [  0 636]]\n",
      "Classificaiton Report\n",
      "              precision    recall  f1-score   support\n",
      "\n",
      "           0       0.00      0.00      0.00       364\n",
      "           1       0.64      1.00      0.78       636\n",
      "\n",
      "    accuracy                           0.64      1000\n",
      "   macro avg       0.32      0.50      0.39      1000\n",
      "weighted avg       0.40      0.64      0.49      1000\n",
      "\n",
      "--------------------------------------------------\n"
     ]
    },
    {
     "name": "stderr",
     "output_type": "stream",
     "text": [
      "/opt/anaconda3/lib/python3.12/site-packages/sklearn/linear_model/_logistic.py:469: ConvergenceWarning: lbfgs failed to converge (status=1):\n",
      "STOP: TOTAL NO. of ITERATIONS REACHED LIMIT.\n",
      "\n",
      "Increase the number of iterations (max_iter) or scale the data as shown in:\n",
      "    https://scikit-learn.org/stable/modules/preprocessing.html\n",
      "Please also refer to the documentation for alternative solver options:\n",
      "    https://scikit-learn.org/stable/modules/linear_model.html#logistic-regression\n",
      "  n_iter_i = _check_optimize_result(\n",
      "/opt/anaconda3/lib/python3.12/site-packages/sklearn/metrics/_classification.py:1509: UndefinedMetricWarning: Precision is ill-defined and being set to 0.0 in labels with no predicted samples. Use `zero_division` parameter to control this behavior.\n",
      "  _warn_prf(average, modifier, f\"{metric.capitalize()} is\", len(result))\n",
      "/opt/anaconda3/lib/python3.12/site-packages/sklearn/metrics/_classification.py:1509: UndefinedMetricWarning: Precision is ill-defined and being set to 0.0 in labels with no predicted samples. Use `zero_division` parameter to control this behavior.\n",
      "  _warn_prf(average, modifier, f\"{metric.capitalize()} is\", len(result))\n",
      "/opt/anaconda3/lib/python3.12/site-packages/sklearn/metrics/_classification.py:1509: UndefinedMetricWarning: Precision is ill-defined and being set to 0.0 in labels with no predicted samples. Use `zero_division` parameter to control this behavior.\n",
      "  _warn_prf(average, modifier, f\"{metric.capitalize()} is\", len(result))\n"
     ]
    }
   ],
   "source": [
    "for name, model in models.items():\n",
    "    print(name)\n",
    "    model.fit(X_train, y_train)\n",
    "    y_pred = model.predict(X_test)\n",
    "    accuracy = accuracy_score(y_test, y_pred)\n",
    "    \n",
    "    print(\"Accuracy : \", accuracy)\n",
    "    print(\"Confusion_matrix :\")\n",
    "    print(confusion_matrix(y_test, y_pred))\n",
    "    print(\"Classificaiton Report\")\n",
    "    print(classification_report(y_test, y_pred))\n",
    "    \n",
    "    print(\"-\"*50)"
   ]
  },
  {
   "cell_type": "code",
   "execution_count": 46,
   "id": "23f7d7c7",
   "metadata": {},
   "outputs": [],
   "source": [
    "model_DTC= DecisionTreeClassifier(random_state = 10)\n",
    "model_DTC.fit(X_train, y_train)\n",
    "y_pred = model_DTC.predict(X_test)"
   ]
  },
  {
   "cell_type": "code",
   "execution_count": 51,
   "id": "ca1ffbce",
   "metadata": {},
   "outputs": [
    {
     "data": {
      "text/plain": [
       "851"
      ]
     },
     "execution_count": 51,
     "metadata": {},
     "output_type": "execute_result"
    }
   ],
   "source": [
    "sum(np.isclose(y_pred, y_test))"
   ]
  },
  {
   "cell_type": "code",
   "execution_count": 53,
   "id": "1ec432f4",
   "metadata": {},
   "outputs": [],
   "source": [
    "from sklearn.model_selection import GridSearchCV\n",
    "\n",
    "param_grids = {\n",
    "    'Decision Tree': {\n",
    "       'max_depth': [3, 5, 10, 15],\n",
    "       'min_samples_split': [2, 5, 10],\n",
    "       'min_samples_leaf': [1, 5, 10]\n",
    "    },\n",
    "    'XGBoost': {\n",
    "       'max_depth': [3, 5, 10],\n",
    "        'learning_rate': [0.1, 0.5, 1],\n",
    "        'n_estimators': [50, 100, 200]\n",
    "    },\n",
    "    'Random Forest': {\n",
    "        'n_estimators': [50, 100, 200],\n",
    "       'max_depth': [3, 5, 10],\n",
    "       'min_samples_split': [2, 5, 10]\n",
    "    }\n",
    "}"
   ]
  },
  {
   "cell_type": "code",
   "execution_count": 56,
   "id": "bac4d8e0",
   "metadata": {},
   "outputs": [
    {
     "name": "stdout",
     "output_type": "stream",
     "text": [
      "Fitting 5 folds for each of 27 candidates, totalling 135 fits\n",
      "Best Parameters for : Random Forest: {'max_depth': 10, 'min_samples_split': 2, 'n_estimators': 50}\n",
      "Best score for : Random Forest: 0.7060000000000001\n",
      "Accuracy: 0.691\n",
      "Classification_Report: \n",
      "              precision    recall  f1-score   support\n",
      "\n",
      "           0       0.97      0.16      0.27       364\n",
      "           1       0.67      1.00      0.80       636\n",
      "\n",
      "    accuracy                           0.69      1000\n",
      "   macro avg       0.82      0.58      0.54      1000\n",
      "weighted avg       0.78      0.69      0.61      1000\n",
      "\n",
      "Confusion Matrix: \n",
      "[[ 57 307]\n",
      " [  2 634]]\n",
      "******************************\n",
      "Fitting 5 folds for each of 27 candidates, totalling 135 fits\n",
      "Best Parameters for : XGBoost: {'learning_rate': 0.5, 'max_depth': 10, 'n_estimators': 200}\n",
      "Best score for : XGBoost: 0.8523333333333334\n",
      "Accuracy: 0.871\n",
      "Classification_Report: \n",
      "              precision    recall  f1-score   support\n",
      "\n",
      "           0       0.89      0.73      0.81       364\n",
      "           1       0.86      0.95      0.90       636\n",
      "\n",
      "    accuracy                           0.87      1000\n",
      "   macro avg       0.88      0.84      0.85      1000\n",
      "weighted avg       0.87      0.87      0.87      1000\n",
      "\n",
      "Confusion Matrix: \n",
      "[[267  97]\n",
      " [ 32 604]]\n",
      "******************************\n",
      "Fitting 5 folds for each of 36 candidates, totalling 180 fits\n",
      "Best Parameters for : Decision Tree: {'max_depth': 15, 'min_samples_leaf': 1, 'min_samples_split': 2}\n",
      "Best score for : Decision Tree: 0.7452222222222222\n",
      "Accuracy: 0.76\n",
      "Classification_Report: \n",
      "              precision    recall  f1-score   support\n",
      "\n",
      "           0       0.80      0.45      0.58       364\n",
      "           1       0.75      0.94      0.83       636\n",
      "\n",
      "    accuracy                           0.76      1000\n",
      "   macro avg       0.78      0.69      0.71      1000\n",
      "weighted avg       0.77      0.76      0.74      1000\n",
      "\n",
      "Confusion Matrix: \n",
      "[[165 199]\n",
      " [ 41 595]]\n",
      "******************************\n"
     ]
    }
   ],
   "source": [
    "for name, model in models.items():\n",
    "    if name not in param_grids:\n",
    "        continue\n",
    "    \n",
    "    grid_search = GridSearchCV(model, param_grids[name], cv=5, scoring='accuracy', verbose =1)\n",
    "    grid_search.fit(X_train, y_train)\n",
    "    y_pred = grid_search.predict(X_test)\n",
    "    \n",
    "    print(f\"Best Parameters for : {name}: {grid_search.best_params_}\")\n",
    "    print(f\"Best score for : {name}: {grid_search.best_score_}\")\n",
    "    \n",
    "    accuracy = accuracy_score(y_test, y_pred)\n",
    "    print(\"Accuracy:\", accuracy)\n",
    "    print(\"Classification_Report: \")\n",
    "    print(classification_report(y_test, y_pred))\n",
    "    print(\"Confusion Matrix: \")\n",
    "    print(confusion_matrix(y_test, y_pred))\n",
    "    print(\"*\"*30)"
   ]
  },
  {
   "cell_type": "code",
   "execution_count": null,
   "id": "fb7d79d0",
   "metadata": {},
   "outputs": [],
   "source": []
  }
 ],
 "metadata": {
  "kernelspec": {
   "display_name": "My Environment",
   "language": "python",
   "name": "myenv"
  },
  "language_info": {
   "codemirror_mode": {
    "name": "ipython",
    "version": 3
   },
   "file_extension": ".py",
   "mimetype": "text/x-python",
   "name": "python",
   "nbconvert_exporter": "python",
   "pygments_lexer": "ipython3",
   "version": "3.12.4"
  }
 },
 "nbformat": 4,
 "nbformat_minor": 5
}
